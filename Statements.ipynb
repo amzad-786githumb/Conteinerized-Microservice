{
  "nbformat": 4,
  "nbformat_minor": 0,
  "metadata": {
    "colab": {
      "provenance": [],
      "authorship_tag": "ABX9TyOcNs5kxN3NrJPeNoq+gilC",
      "include_colab_link": true
    },
    "kernelspec": {
      "name": "python3",
      "display_name": "Python 3"
    },
    "language_info": {
      "name": "python"
    }
  },
  "cells": [
    {
      "cell_type": "markdown",
      "metadata": {
        "id": "view-in-github",
        "colab_type": "text"
      },
      "source": [
        "<a href=\"https://colab.research.google.com/github/amzad-786githumb/Functions-from-zero/blob/main/Statements.ipynb\" target=\"_parent\"><img src=\"https://colab.research.google.com/assets/colab-badge.svg\" alt=\"Open In Colab\"/></a>"
      ]
    },
    {
      "cell_type": "markdown",
      "source": [
        "##Learning Statement"
      ],
      "metadata": {
        "id": "NSOZlMdSgzms"
      }
    },
    {
      "cell_type": "code",
      "execution_count": 1,
      "metadata": {
        "colab": {
          "base_uri": "https://localhost:8080/"
        },
        "id": "v8qWhRMHgklV",
        "outputId": "e1512394-a439-4980-9951-29fc4aa86f3f"
      },
      "outputs": [
        {
          "output_type": "stream",
          "name": "stdout",
          "text": [
            "hello world\n"
          ]
        }
      ],
      "source": [
        "print(\"hello world\")"
      ]
    },
    {
      "cell_type": "markdown",
      "source": [
        "###Variables"
      ],
      "metadata": {
        "id": "u_ZsqhilhREI"
      }
    },
    {
      "cell_type": "code",
      "source": [
        "variable=1"
      ],
      "metadata": {
        "id": "lxMRpnXQg97O"
      },
      "execution_count": 2,
      "outputs": []
    },
    {
      "cell_type": "code",
      "source": [
        "x =1"
      ],
      "metadata": {
        "id": "pkAwmiJDhWWj"
      },
      "execution_count": 3,
      "outputs": []
    },
    {
      "cell_type": "code",
      "source": [
        "y =2\n"
      ],
      "metadata": {
        "id": "nN4xMLCliP7w"
      },
      "execution_count": 4,
      "outputs": []
    },
    {
      "cell_type": "code",
      "source": [
        "x + y"
      ],
      "metadata": {
        "colab": {
          "base_uri": "https://localhost:8080/"
        },
        "id": "GwPt5SEniRjv",
        "outputId": "49272565-8ce3-43e4-cb34-24a5bf11b406"
      },
      "execution_count": 6,
      "outputs": [
        {
          "output_type": "execute_result",
          "data": {
            "text/plain": [
              "3"
            ]
          },
          "metadata": {},
          "execution_count": 6
        }
      ]
    },
    {
      "cell_type": "markdown",
      "source": [
        "###Data Structure"
      ],
      "metadata": {
        "id": "6rWW-RfPihmG"
      }
    },
    {
      "cell_type": "markdown",
      "source": [
        "####Lists"
      ],
      "metadata": {
        "id": "3LJnKWqCi35Z"
      }
    },
    {
      "cell_type": "code",
      "source": [
        "my_list = [1,2,3]"
      ],
      "metadata": {
        "id": "hW7N2FYziUPY"
      },
      "execution_count": 7,
      "outputs": []
    },
    {
      "cell_type": "code",
      "source": [
        "my_list[0]"
      ],
      "metadata": {
        "colab": {
          "base_uri": "https://localhost:8080/"
        },
        "id": "P3_dNntnioo6",
        "outputId": "9813ba46-6671-4b56-ae1d-4499e31f5a4c"
      },
      "execution_count": 8,
      "outputs": [
        {
          "output_type": "execute_result",
          "data": {
            "text/plain": [
              "1"
            ]
          },
          "metadata": {},
          "execution_count": 8
        }
      ]
    },
    {
      "cell_type": "code",
      "source": [
        "my_list[1]"
      ],
      "metadata": {
        "colab": {
          "base_uri": "https://localhost:8080/"
        },
        "id": "e_xnPvltiqhX",
        "outputId": "69367ef3-1ef6-4fe5-e5b6-afd59eced857"
      },
      "execution_count": 9,
      "outputs": [
        {
          "output_type": "execute_result",
          "data": {
            "text/plain": [
              "2"
            ]
          },
          "metadata": {},
          "execution_count": 9
        }
      ]
    },
    {
      "cell_type": "code",
      "source": [
        "my_list[2]"
      ],
      "metadata": {
        "colab": {
          "base_uri": "https://localhost:8080/"
        },
        "id": "PCFN_AN0ivfX",
        "outputId": "130d8179-7415-4981-a6fc-908cb5f9b14b"
      },
      "execution_count": 11,
      "outputs": [
        {
          "output_type": "execute_result",
          "data": {
            "text/plain": [
              "3"
            ]
          },
          "metadata": {},
          "execution_count": 11
        }
      ]
    },
    {
      "cell_type": "code",
      "source": [
        "type(my_list)"
      ],
      "metadata": {
        "colab": {
          "base_uri": "https://localhost:8080/"
        },
        "id": "jgepUdCMjgRK",
        "outputId": "fdc77041-d114-48d6-ab07-89f1fe6da12c"
      },
      "execution_count": 13,
      "outputs": [
        {
          "output_type": "execute_result",
          "data": {
            "text/plain": [
              "list"
            ]
          },
          "metadata": {},
          "execution_count": 13
        }
      ]
    },
    {
      "cell_type": "markdown",
      "source": [
        "###Dictionary"
      ],
      "metadata": {
        "id": "agD6tBQTjK3K"
      }
    },
    {
      "cell_type": "code",
      "source": [
        "my_dict = {1:\"one\", 2:\"two\"}\n",
        "type(my_dict)"
      ],
      "metadata": {
        "colab": {
          "base_uri": "https://localhost:8080/"
        },
        "id": "Rqyl0rImiybg",
        "outputId": "bff19f60-a116-4175-8f36-727a465a346c"
      },
      "execution_count": 12,
      "outputs": [
        {
          "output_type": "execute_result",
          "data": {
            "text/plain": [
              "dict"
            ]
          },
          "metadata": {},
          "execution_count": 12
        }
      ]
    },
    {
      "cell_type": "code",
      "source": [
        "my_dict.keys()"
      ],
      "metadata": {
        "colab": {
          "base_uri": "https://localhost:8080/"
        },
        "id": "CuEan8WTjcT-",
        "outputId": "5d6090ce-1cf6-4812-bd2c-592ccbb85ae4"
      },
      "execution_count": 15,
      "outputs": [
        {
          "output_type": "execute_result",
          "data": {
            "text/plain": [
              "dict_keys([1, 2])"
            ]
          },
          "metadata": {},
          "execution_count": 15
        }
      ]
    },
    {
      "cell_type": "code",
      "source": [
        "my_dict.values()"
      ],
      "metadata": {
        "colab": {
          "base_uri": "https://localhost:8080/"
        },
        "id": "SSGRQfBLjmxR",
        "outputId": "776c61c7-7115-4131-b27d-fe2197c859fa"
      },
      "execution_count": 16,
      "outputs": [
        {
          "output_type": "execute_result",
          "data": {
            "text/plain": [
              "dict_values(['one', 'two'])"
            ]
          },
          "metadata": {},
          "execution_count": 16
        }
      ]
    },
    {
      "cell_type": "code",
      "source": [],
      "metadata": {
        "id": "LD7PuE8rjrNx"
      },
      "execution_count": null,
      "outputs": []
    },
    {
      "cell_type": "markdown",
      "source": [
        "####Loops"
      ],
      "metadata": {
        "id": "Fr92abJbjvsP"
      }
    },
    {
      "cell_type": "code",
      "source": [
        "for key,value in my_dict.items():\n",
        "  print(f'This is my key: {key}')\n",
        "  print(f'This is my value: {value}')"
      ],
      "metadata": {
        "colab": {
          "base_uri": "https://localhost:8080/"
        },
        "id": "ncqC9RPLjxAq",
        "outputId": "dd13e7f2-ba42-47de-e05a-80d6a790c039"
      },
      "execution_count": 17,
      "outputs": [
        {
          "output_type": "stream",
          "name": "stdout",
          "text": [
            "This is my key: 1\n",
            "This is my value: one\n",
            "This is my key: 2\n",
            "This is my value: two\n"
          ]
        }
      ]
    },
    {
      "cell_type": "code",
      "source": [
        "for items in my_list:\n",
        "  print(f'This is the value in the list: {items}')"
      ],
      "metadata": {
        "colab": {
          "base_uri": "https://localhost:8080/"
        },
        "id": "tqz0NQZQkSk4",
        "outputId": "7ae55afb-301e-4c08-edbf-a590dfab2ad2"
      },
      "execution_count": 18,
      "outputs": [
        {
          "output_type": "stream",
          "name": "stdout",
          "text": [
            "This is the value in the list: 1\n",
            "This is the value in the list: 2\n",
            "This is the value in the list: 3\n"
          ]
        }
      ]
    },
    {
      "cell_type": "code",
      "source": [],
      "metadata": {
        "id": "PrHru0f4kjtH"
      },
      "execution_count": null,
      "outputs": []
    }
  ]
}